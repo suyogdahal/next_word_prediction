{
 "cells": [
  {
   "cell_type": "code",
   "execution_count": 1,
   "id": "07e79cdf",
   "metadata": {
    "execution": {
     "iopub.execute_input": "2021-12-22T06:38:37.175962Z",
     "iopub.status.busy": "2021-12-22T06:38:37.175161Z",
     "iopub.status.idle": "2021-12-22T06:38:42.961087Z",
     "shell.execute_reply": "2021-12-22T06:38:42.960421Z",
     "shell.execute_reply.started": "2021-12-22T03:46:33.531644Z"
    },
    "papermill": {
     "duration": 5.809232,
     "end_time": "2021-12-22T06:38:42.961244",
     "exception": false,
     "start_time": "2021-12-22T06:38:37.152012",
     "status": "completed"
    },
    "tags": []
   },
   "outputs": [],
   "source": [
    "# Making necessary imports\n",
    "# To supress tf warnings\n",
    "import os\n",
    "os.environ['TF_CPP_MIN_LOG_LEVEL'] = '3' \n",
    "\n",
    "import pickle\n",
    "import numpy as np\n",
    "import matplotlib.pyplot as plt\n",
    "from sklearn.model_selection import train_test_split\n",
    "\n",
    "import tensorflow as tf\n",
    "from tensorflow.keras.preprocessing.text import Tokenizer\n",
    "from tensorflow.keras.layers import Embedding, LSTM, Dense\n",
    "from tensorflow.keras.models import Sequential\n",
    "from tensorflow.keras.utils import to_categorical\n",
    "from tensorflow.keras.optimizers import Adam\n",
    "from tensorflow.keras.callbacks import ModelCheckpoint\n",
    "from tensorflow.keras.models import load_model"
   ]
  },
  {
   "cell_type": "markdown",
   "id": "e4a70e36",
   "metadata": {
    "papermill": {
     "duration": 0.010123,
     "end_time": "2021-12-22T06:38:42.982325",
     "exception": false,
     "start_time": "2021-12-22T06:38:42.972202",
     "status": "completed"
    },
    "tags": []
   },
   "source": [
    "For this project, we will be using the text corpus of an ebook [\"A Christmas Carol in Prose; Being a Ghost Story of Christmas\"](https://www.gutenberg.org/ebooks/46) which is downloaded from Project Gutenberg."
   ]
  },
  {
   "cell_type": "markdown",
   "id": "7ab1f642",
   "metadata": {
    "papermill": {
     "duration": 0.009995,
     "end_time": "2021-12-22T06:38:43.002472",
     "exception": false,
     "start_time": "2021-12-22T06:38:42.992477",
     "status": "completed"
    },
    "tags": []
   },
   "source": [
    "## Data Preparation"
   ]
  },
  {
   "cell_type": "code",
   "execution_count": 2,
   "id": "eea3ca4b",
   "metadata": {
    "execution": {
     "iopub.execute_input": "2021-12-22T06:38:43.027394Z",
     "iopub.status.busy": "2021-12-22T06:38:43.026888Z",
     "iopub.status.idle": "2021-12-22T06:38:43.042312Z",
     "shell.execute_reply": "2021-12-22T06:38:43.042740Z",
     "shell.execute_reply.started": "2021-12-22T03:46:35.195727Z"
    },
    "papermill": {
     "duration": 0.030194,
     "end_time": "2021-12-22T06:38:43.042864",
     "exception": false,
     "start_time": "2021-12-22T06:38:43.012670",
     "status": "completed"
    },
    "tags": []
   },
   "outputs": [
    {
     "data": {
      "text/plain": [
       "'The Project Gutenberg eBook of A Christmas Carol, by Charles Dickens\\n\\nThis eBook is for the use of anyone anywhere in the United States and\\nmost other parts of the world at no cost and with almost no restrictions\\nwhatsoever. You may copy it, give it away or re-use it under the terms\\nof the Project Gutenberg License included with this eBook or online at\\nwww.gutenberg.org. If you are not located in the United States, you\\nwill have to check the laws of the country where you are located before\\nusing'"
      ]
     },
     "execution_count": 2,
     "metadata": {},
     "output_type": "execute_result"
    }
   ],
   "source": [
    "with open(\"../input/a-christmas-carol-in-prose/data.txt\", \"r\", encoding='utf-8-sig') as f:\n",
    "    text = f.read()\n",
    "    \n",
    "# Viewing a portion of the original text\n",
    "text[:500]"
   ]
  },
  {
   "cell_type": "code",
   "execution_count": 3,
   "id": "60fef6b3",
   "metadata": {
    "execution": {
     "iopub.execute_input": "2021-12-22T06:38:43.073374Z",
     "iopub.status.busy": "2021-12-22T06:38:43.072729Z",
     "iopub.status.idle": "2021-12-22T06:38:43.075191Z",
     "shell.execute_reply": "2021-12-22T06:38:43.075688Z",
     "shell.execute_reply.started": "2021-12-22T03:46:35.477378Z"
    },
    "papermill": {
     "duration": 0.02225,
     "end_time": "2021-12-22T06:38:43.075805",
     "exception": false,
     "start_time": "2021-12-22T06:38:43.053555",
     "status": "completed"
    },
    "tags": []
   },
   "outputs": [
    {
     "data": {
      "text/plain": [
       "'The Project Gutenberg eBook of A Christmas Carol, by Charles Dickens This eBook is for the use of anyone anywhere in the United States and most other parts of the world at no cost and with almost no restrictions whatsoever. You may copy it, give it away or re-use it under the terms of the Project Gutenberg License included with this eBook or online at www.gutenberg.org. If you are not located in the United States, you will have to check the laws of the country where you are located before using '"
      ]
     },
     "execution_count": 3,
     "metadata": {},
     "output_type": "execute_result"
    }
   ],
   "source": [
    "# Some basic preprocessing\n",
    "\n",
    "text = \" \".join(text.split()) # Remove any remaining white spaces\n",
    "text = text.replace('\"', '').replace(\"'\", '') # Remove single and double quotation marks\n",
    "\n",
    "# Viewing a portion of the preprocessed text\n",
    "text[:500]"
   ]
  },
  {
   "cell_type": "code",
   "execution_count": 4,
   "id": "d0d54f32",
   "metadata": {
    "execution": {
     "iopub.execute_input": "2021-12-22T06:38:43.126395Z",
     "iopub.status.busy": "2021-12-22T06:38:43.116037Z",
     "iopub.status.idle": "2021-12-22T06:38:43.147386Z",
     "shell.execute_reply": "2021-12-22T06:38:43.146943Z",
     "shell.execute_reply.started": "2021-12-22T03:46:35.830803Z"
    },
    "papermill": {
     "duration": 0.060975,
     "end_time": "2021-12-22T06:38:43.147486",
     "exception": false,
     "start_time": "2021-12-22T06:38:43.086511",
     "status": "completed"
    },
    "tags": []
   },
   "outputs": [
    {
     "name": "stdout",
     "output_type": "stream",
     "text": [
      "Total number of unique words: 4701\n",
      "\n",
      "Word Count: [('the', 1761), ('project', 88), ('gutenberg', 97), ('ebook', 13), ('of', 783)]\n",
      "\n",
      "Document Count: 1\n",
      "\n",
      "Word Index: {'the': 1, 'and': 2, 'of': 3, 'a': 4, 'to': 5}\n"
     ]
    }
   ],
   "source": [
    "# Apply Tokenization\n",
    "\n",
    "# Fitting tokenizer on text\n",
    "tokenizer = Tokenizer()\n",
    "tokenizer.fit_on_texts([text])\n",
    "\n",
    "# View what the tokenizer has learned\n",
    "vocab_size = len(tokenizer.word_index)+1\n",
    "print(f'Total number of unique words: {vocab_size}\\n')\n",
    "print(f\"Word Count: {list(tokenizer.word_counts.items())[:5]}\\n\")\n",
    "print(f\"Document Count: {tokenizer.document_count}\\n\")\n",
    "print(f\"Word Index: {dict(list(tokenizer.word_index.items())[:5])}\")\n",
    "\n",
    "# Saving the tokenizer\n",
    "pickle.dump(tokenizer, open(\"./tokenizer.pkl\", 'wb'))"
   ]
  },
  {
   "cell_type": "code",
   "execution_count": 5,
   "id": "b0508ada",
   "metadata": {
    "execution": {
     "iopub.execute_input": "2021-12-22T06:38:43.202124Z",
     "iopub.status.busy": "2021-12-22T06:38:43.201483Z",
     "iopub.status.idle": "2021-12-22T06:38:43.204005Z",
     "shell.execute_reply": "2021-12-22T06:38:43.204412Z",
     "shell.execute_reply.started": "2021-12-22T03:46:36.191755Z"
    },
    "papermill": {
     "duration": 0.045563,
     "end_time": "2021-12-22T06:38:43.204523",
     "exception": false,
     "start_time": "2021-12-22T06:38:43.158960",
     "status": "completed"
    },
    "tags": []
   },
   "outputs": [
    {
     "name": "stdout",
     "output_type": "stream",
     "text": [
      "Length of sequence data: 32050\n",
      "[1, 51, 46, 304, 3]\n"
     ]
    }
   ],
   "source": [
    "# Transforming text to sequences\n",
    "sequence_data = tokenizer.texts_to_sequences([text])[0]\n",
    "print(f'Length of sequence data: {len(sequence_data)}')\n",
    "print(sequence_data[:5])"
   ]
  },
  {
   "cell_type": "code",
   "execution_count": 6,
   "id": "a7bd7af9",
   "metadata": {
    "execution": {
     "iopub.execute_input": "2021-12-22T06:38:43.244472Z",
     "iopub.status.busy": "2021-12-22T06:38:43.234165Z",
     "iopub.status.idle": "2021-12-22T06:38:43.305928Z",
     "shell.execute_reply": "2021-12-22T06:38:43.306331Z",
     "shell.execute_reply.started": "2021-12-22T03:46:36.611845Z"
    },
    "papermill": {
     "duration": 0.090468,
     "end_time": "2021-12-22T06:38:43.306444",
     "exception": false,
     "start_time": "2021-12-22T06:38:43.215976",
     "status": "completed"
    },
    "tags": []
   },
   "outputs": [
    {
     "name": "stdout",
     "output_type": "stream",
     "text": [
      "Total number of sequences: 32047\n"
     ]
    },
    {
     "data": {
      "text/plain": [
       "array([[  1,  51,  46, 304],\n",
       "       [ 51,  46, 304,   3],\n",
       "       [ 46, 304,   3,   4],\n",
       "       [304,   3,   4,  50],\n",
       "       [  3,   4,  50, 505]])"
      ]
     },
     "execution_count": 6,
     "metadata": {},
     "output_type": "execute_result"
    }
   ],
   "source": [
    "# Creating sequences each having 4 words (first three words are used to predict the fourth word)\n",
    "sequences = []\n",
    "\n",
    "for i in range(3, len(sequence_data)):\n",
    "    words = sequence_data[i-3:i+1]\n",
    "    sequences.append(words)\n",
    "\n",
    "sequences = np.array(sequences)\n",
    "print(f'Total number of sequences: {sequences.shape[0]}')\n",
    "sequences[:5]"
   ]
  },
  {
   "cell_type": "code",
   "execution_count": 7,
   "id": "ad1f4e5f",
   "metadata": {
    "execution": {
     "iopub.execute_input": "2021-12-22T06:38:43.334964Z",
     "iopub.status.busy": "2021-12-22T06:38:43.334123Z",
     "iopub.status.idle": "2021-12-22T06:38:43.686574Z",
     "shell.execute_reply": "2021-12-22T06:38:43.686019Z",
     "shell.execute_reply.started": "2021-12-22T03:46:37.357803Z"
    },
    "papermill": {
     "duration": 0.368496,
     "end_time": "2021-12-22T06:38:43.686726",
     "exception": false,
     "start_time": "2021-12-22T06:38:43.318230",
     "status": "completed"
    },
    "tags": []
   },
   "outputs": [],
   "source": [
    "# Taking first 3 words as input and last word as output\n",
    "\n",
    "X = sequences[:,0:3]\n",
    "y = sequences[:,3]\n",
    "\n",
    "# Converting output into binary class matrix\n",
    "y = to_categorical(y, num_classes=vocab_size)\n",
    "y[:5]\n",
    "\n",
    "# Train-test split\n",
    "X_train, X_test, y_train, y_test = train_test_split(X, y, test_size=0.2, random_state=42)"
   ]
  },
  {
   "cell_type": "markdown",
   "id": "fcd7ddb7",
   "metadata": {
    "papermill": {
     "duration": 0.011878,
     "end_time": "2021-12-22T06:38:43.710828",
     "exception": false,
     "start_time": "2021-12-22T06:38:43.698950",
     "status": "completed"
    },
    "tags": []
   },
   "source": [
    "## Model Building & Training"
   ]
  },
  {
   "cell_type": "code",
   "execution_count": 8,
   "id": "a5d36a73",
   "metadata": {
    "execution": {
     "iopub.execute_input": "2021-12-22T06:38:43.740029Z",
     "iopub.status.busy": "2021-12-22T06:38:43.739342Z",
     "iopub.status.idle": "2021-12-22T06:38:48.169009Z",
     "shell.execute_reply": "2021-12-22T06:38:48.167565Z",
     "shell.execute_reply.started": "2021-12-22T03:46:38.667473Z"
    },
    "papermill": {
     "duration": 4.446441,
     "end_time": "2021-12-22T06:38:48.169201",
     "exception": false,
     "start_time": "2021-12-22T06:38:43.722760",
     "status": "completed"
    },
    "tags": []
   },
   "outputs": [
    {
     "name": "stdout",
     "output_type": "stream",
     "text": [
      "Model: \"sequential\"\n",
      "_________________________________________________________________\n",
      "Layer (type)                 Output Shape              Param #   \n",
      "=================================================================\n",
      "embedding (Embedding)        (None, 3, 10)             47010     \n",
      "_________________________________________________________________\n",
      "lstm (LSTM)                  (None, 3, 1000)           4044000   \n",
      "_________________________________________________________________\n",
      "lstm_1 (LSTM)                (None, 1000)              8004000   \n",
      "_________________________________________________________________\n",
      "dense (Dense)                (None, 1000)              1001000   \n",
      "_________________________________________________________________\n",
      "dense_1 (Dense)              (None, 4701)              4705701   \n",
      "=================================================================\n",
      "Total params: 17,801,711\n",
      "Trainable params: 17,801,711\n",
      "Non-trainable params: 0\n",
      "_________________________________________________________________\n"
     ]
    }
   ],
   "source": [
    "# Creating a LSTM model\n",
    "\n",
    "model = Sequential()\n",
    "model.add(Embedding(vocab_size, 10, input_length=3))\n",
    "model.add(LSTM(1000, return_sequences=True))\n",
    "model.add(LSTM(1000))\n",
    "model.add(Dense(1000, activation='relu'))\n",
    "model.add(Dense(vocab_size, activation='softmax'))\n",
    "\n",
    "model.summary()"
   ]
  },
  {
   "cell_type": "code",
   "execution_count": 9,
   "id": "120b031e",
   "metadata": {
    "execution": {
     "iopub.execute_input": "2021-12-22T06:38:48.203455Z",
     "iopub.status.busy": "2021-12-22T06:38:48.202711Z",
     "iopub.status.idle": "2021-12-22T06:48:13.565116Z",
     "shell.execute_reply": "2021-12-22T06:48:13.564463Z",
     "shell.execute_reply.started": "2021-12-22T03:49:40.431777Z"
    },
    "papermill": {
     "duration": 565.380778,
     "end_time": "2021-12-22T06:48:13.565285",
     "exception": false,
     "start_time": "2021-12-22T06:38:48.184507",
     "status": "completed"
    },
    "tags": []
   },
   "outputs": [
    {
     "name": "stdout",
     "output_type": "stream",
     "text": [
      "Epoch 1/100\n",
      "401/401 [==============================] - 10s 15ms/step - loss: 6.7525 - accuracy: 0.0521 - val_loss: 6.5872 - val_accuracy: 0.0529\n",
      "\n",
      "Epoch 00001: loss improved from inf to 6.75254, saving model to ./model.h5\n",
      "Epoch 2/100\n",
      "401/401 [==============================] - 5s 13ms/step - loss: 6.2891 - accuracy: 0.0608 - val_loss: 6.5330 - val_accuracy: 0.0619\n",
      "\n",
      "Epoch 00002: loss improved from 6.75254 to 6.28907, saving model to ./model.h5\n",
      "Epoch 3/100\n",
      "401/401 [==============================] - 5s 13ms/step - loss: 6.0055 - accuracy: 0.0721 - val_loss: 6.5417 - val_accuracy: 0.0778\n",
      "\n",
      "Epoch 00003: loss improved from 6.28907 to 6.00548, saving model to ./model.h5\n",
      "Epoch 4/100\n",
      "401/401 [==============================] - 5s 13ms/step - loss: 5.6892 - accuracy: 0.0883 - val_loss: 6.5626 - val_accuracy: 0.0875\n",
      "\n",
      "Epoch 00004: loss improved from 6.00548 to 5.68919, saving model to ./model.h5\n",
      "Epoch 5/100\n",
      "401/401 [==============================] - 5s 13ms/step - loss: 5.3902 - accuracy: 0.1043 - val_loss: 6.6505 - val_accuracy: 0.0924\n",
      "\n",
      "Epoch 00005: loss improved from 5.68919 to 5.39022, saving model to ./model.h5\n",
      "Epoch 6/100\n",
      "401/401 [==============================] - 5s 13ms/step - loss: 5.1149 - accuracy: 0.1161 - val_loss: 6.7681 - val_accuracy: 0.0964\n",
      "\n",
      "Epoch 00006: loss improved from 5.39022 to 5.11488, saving model to ./model.h5\n",
      "Epoch 7/100\n",
      "401/401 [==============================] - 5s 13ms/step - loss: 4.8455 - accuracy: 0.1303 - val_loss: 7.2384 - val_accuracy: 0.0981\n",
      "\n",
      "Epoch 00007: loss improved from 5.11488 to 4.84553, saving model to ./model.h5\n",
      "Epoch 8/100\n",
      "401/401 [==============================] - 5s 13ms/step - loss: 4.5777 - accuracy: 0.1418 - val_loss: 7.4926 - val_accuracy: 0.0994\n",
      "\n",
      "Epoch 00008: loss improved from 4.84553 to 4.57772, saving model to ./model.h5\n",
      "Epoch 9/100\n",
      "401/401 [==============================] - 5s 13ms/step - loss: 4.2874 - accuracy: 0.1579 - val_loss: 8.0077 - val_accuracy: 0.0931\n",
      "\n",
      "Epoch 00009: loss improved from 4.57772 to 4.28739, saving model to ./model.h5\n",
      "Epoch 10/100\n",
      "401/401 [==============================] - 5s 13ms/step - loss: 3.9692 - accuracy: 0.1764 - val_loss: 8.6294 - val_accuracy: 0.0902\n",
      "\n",
      "Epoch 00010: loss improved from 4.28739 to 3.96918, saving model to ./model.h5\n",
      "Epoch 11/100\n",
      "401/401 [==============================] - 5s 13ms/step - loss: 3.6101 - accuracy: 0.2096 - val_loss: 9.3463 - val_accuracy: 0.0808\n",
      "\n",
      "Epoch 00011: loss improved from 3.96918 to 3.61009, saving model to ./model.h5\n",
      "Epoch 12/100\n",
      "401/401 [==============================] - 5s 13ms/step - loss: 3.2546 - accuracy: 0.2622 - val_loss: 10.3243 - val_accuracy: 0.0847\n",
      "\n",
      "Epoch 00012: loss improved from 3.61009 to 3.25459, saving model to ./model.h5\n",
      "Epoch 13/100\n",
      "401/401 [==============================] - 5s 13ms/step - loss: 2.9131 - accuracy: 0.3152 - val_loss: 11.4587 - val_accuracy: 0.0827\n",
      "\n",
      "Epoch 00013: loss improved from 3.25459 to 2.91313, saving model to ./model.h5\n",
      "Epoch 14/100\n",
      "401/401 [==============================] - 5s 13ms/step - loss: 2.6029 - accuracy: 0.3692 - val_loss: 12.3316 - val_accuracy: 0.0757\n",
      "\n",
      "Epoch 00014: loss improved from 2.91313 to 2.60287, saving model to ./model.h5\n",
      "Epoch 15/100\n",
      "401/401 [==============================] - 5s 13ms/step - loss: 2.3234 - accuracy: 0.4246 - val_loss: 13.3832 - val_accuracy: 0.0793\n",
      "\n",
      "Epoch 00015: loss improved from 2.60287 to 2.32342, saving model to ./model.h5\n",
      "Epoch 16/100\n",
      "401/401 [==============================] - 5s 12ms/step - loss: 2.0750 - accuracy: 0.4765 - val_loss: 14.2050 - val_accuracy: 0.0716\n",
      "\n",
      "Epoch 00016: loss improved from 2.32342 to 2.07495, saving model to ./model.h5\n",
      "Epoch 17/100\n",
      "401/401 [==============================] - 5s 13ms/step - loss: 1.8700 - accuracy: 0.5138 - val_loss: 15.4204 - val_accuracy: 0.0752\n",
      "\n",
      "Epoch 00017: loss improved from 2.07495 to 1.86995, saving model to ./model.h5\n",
      "Epoch 18/100\n",
      "401/401 [==============================] - 5s 12ms/step - loss: 1.6653 - accuracy: 0.5620 - val_loss: 16.2978 - val_accuracy: 0.0724\n",
      "\n",
      "Epoch 00018: loss improved from 1.86995 to 1.66526, saving model to ./model.h5\n",
      "Epoch 19/100\n",
      "401/401 [==============================] - 5s 13ms/step - loss: 1.4861 - accuracy: 0.5989 - val_loss: 17.5456 - val_accuracy: 0.0733\n",
      "\n",
      "Epoch 00019: loss improved from 1.66526 to 1.48611, saving model to ./model.h5\n",
      "Epoch 20/100\n",
      "401/401 [==============================] - 5s 13ms/step - loss: 1.3228 - accuracy: 0.6390 - val_loss: 18.0668 - val_accuracy: 0.0718\n",
      "\n",
      "Epoch 00020: loss improved from 1.48611 to 1.32283, saving model to ./model.h5\n",
      "Epoch 21/100\n",
      "401/401 [==============================] - 5s 14ms/step - loss: 1.1740 - accuracy: 0.6781 - val_loss: 18.3749 - val_accuracy: 0.0735\n",
      "\n",
      "Epoch 00021: loss improved from 1.32283 to 1.17403, saving model to ./model.h5\n",
      "Epoch 22/100\n",
      "401/401 [==============================] - 5s 13ms/step - loss: 1.0355 - accuracy: 0.7142 - val_loss: 19.7591 - val_accuracy: 0.0755\n",
      "\n",
      "Epoch 00022: loss improved from 1.17403 to 1.03554, saving model to ./model.h5\n",
      "Epoch 23/100\n",
      "401/401 [==============================] - 5s 13ms/step - loss: 0.9052 - accuracy: 0.7474 - val_loss: 20.8396 - val_accuracy: 0.0710\n",
      "\n",
      "Epoch 00023: loss improved from 1.03554 to 0.90525, saving model to ./model.h5\n",
      "Epoch 24/100\n",
      "401/401 [==============================] - 5s 13ms/step - loss: 0.7942 - accuracy: 0.7795 - val_loss: 20.8996 - val_accuracy: 0.0736\n",
      "\n",
      "Epoch 00024: loss improved from 0.90525 to 0.79423, saving model to ./model.h5\n",
      "Epoch 25/100\n",
      "401/401 [==============================] - 5s 13ms/step - loss: 0.7033 - accuracy: 0.8058 - val_loss: 21.2722 - val_accuracy: 0.0780\n",
      "\n",
      "Epoch 00025: loss improved from 0.79423 to 0.70333, saving model to ./model.h5\n",
      "Epoch 26/100\n",
      "401/401 [==============================] - 5s 13ms/step - loss: 0.6156 - accuracy: 0.8313 - val_loss: 22.1983 - val_accuracy: 0.0775\n",
      "\n",
      "Epoch 00026: loss improved from 0.70333 to 0.61557, saving model to ./model.h5\n",
      "Epoch 27/100\n",
      "401/401 [==============================] - 5s 13ms/step - loss: 0.5524 - accuracy: 0.8504 - val_loss: 21.9227 - val_accuracy: 0.0746\n",
      "\n",
      "Epoch 00027: loss improved from 0.61557 to 0.55238, saving model to ./model.h5\n",
      "Epoch 28/100\n",
      "401/401 [==============================] - 5s 12ms/step - loss: 0.4888 - accuracy: 0.8672 - val_loss: 22.7456 - val_accuracy: 0.0772\n",
      "\n",
      "Epoch 00028: loss improved from 0.55238 to 0.48877, saving model to ./model.h5\n",
      "Epoch 29/100\n",
      "401/401 [==============================] - 5s 13ms/step - loss: 0.4622 - accuracy: 0.8750 - val_loss: 22.5353 - val_accuracy: 0.0755\n",
      "\n",
      "Epoch 00029: loss improved from 0.48877 to 0.46223, saving model to ./model.h5\n",
      "Epoch 30/100\n",
      "401/401 [==============================] - 5s 13ms/step - loss: 0.4286 - accuracy: 0.8838 - val_loss: 22.9052 - val_accuracy: 0.0772\n",
      "\n",
      "Epoch 00030: loss improved from 0.46223 to 0.42858, saving model to ./model.h5\n",
      "Epoch 31/100\n",
      "401/401 [==============================] - 5s 13ms/step - loss: 0.3961 - accuracy: 0.8933 - val_loss: 22.9986 - val_accuracy: 0.0783\n",
      "\n",
      "Epoch 00031: loss improved from 0.42858 to 0.39609, saving model to ./model.h5\n",
      "Epoch 32/100\n",
      "401/401 [==============================] - 6s 15ms/step - loss: 0.3766 - accuracy: 0.8981 - val_loss: 22.8236 - val_accuracy: 0.0800\n",
      "\n",
      "Epoch 00032: loss improved from 0.39609 to 0.37659, saving model to ./model.h5\n",
      "Epoch 33/100\n",
      "401/401 [==============================] - 5s 13ms/step - loss: 0.3475 - accuracy: 0.9049 - val_loss: 23.0725 - val_accuracy: 0.0800\n",
      "\n",
      "Epoch 00033: loss improved from 0.37659 to 0.34750, saving model to ./model.h5\n",
      "Epoch 34/100\n",
      "401/401 [==============================] - 5s 13ms/step - loss: 0.3403 - accuracy: 0.9065 - val_loss: 23.1002 - val_accuracy: 0.0761\n",
      "\n",
      "Epoch 00034: loss improved from 0.34750 to 0.34029, saving model to ./model.h5\n",
      "Epoch 35/100\n",
      "401/401 [==============================] - 5s 13ms/step - loss: 0.3122 - accuracy: 0.9129 - val_loss: 23.1222 - val_accuracy: 0.0802\n",
      "\n",
      "Epoch 00035: loss improved from 0.34029 to 0.31221, saving model to ./model.h5\n",
      "Epoch 36/100\n",
      "401/401 [==============================] - 5s 13ms/step - loss: 0.3122 - accuracy: 0.9120 - val_loss: 22.4795 - val_accuracy: 0.0799\n",
      "\n",
      "Epoch 00036: loss improved from 0.31221 to 0.31218, saving model to ./model.h5\n",
      "Epoch 37/100\n",
      "401/401 [==============================] - 5s 13ms/step - loss: 0.3158 - accuracy: 0.9092 - val_loss: 22.7928 - val_accuracy: 0.0768\n",
      "\n",
      "Epoch 00037: loss did not improve from 0.31218\n",
      "Epoch 38/100\n",
      "401/401 [==============================] - 5s 14ms/step - loss: 0.3019 - accuracy: 0.9115 - val_loss: 22.7865 - val_accuracy: 0.0774\n",
      "\n",
      "Epoch 00038: loss improved from 0.31218 to 0.30187, saving model to ./model.h5\n",
      "Epoch 39/100\n",
      "401/401 [==============================] - 5s 13ms/step - loss: 0.2995 - accuracy: 0.9109 - val_loss: 22.7912 - val_accuracy: 0.0808\n",
      "\n",
      "Epoch 00039: loss improved from 0.30187 to 0.29945, saving model to ./model.h5\n",
      "Epoch 40/100\n",
      "401/401 [==============================] - 5s 13ms/step - loss: 0.2943 - accuracy: 0.9106 - val_loss: 22.4185 - val_accuracy: 0.0794\n",
      "\n",
      "Epoch 00040: loss improved from 0.29945 to 0.29429, saving model to ./model.h5\n",
      "Epoch 41/100\n",
      "401/401 [==============================] - 5s 13ms/step - loss: 0.2683 - accuracy: 0.9176 - val_loss: 22.6184 - val_accuracy: 0.0786\n",
      "\n",
      "Epoch 00041: loss improved from 0.29429 to 0.26828, saving model to ./model.h5\n",
      "Epoch 42/100\n",
      "401/401 [==============================] - 5s 13ms/step - loss: 0.2590 - accuracy: 0.9183 - val_loss: 23.3064 - val_accuracy: 0.0796\n",
      "\n",
      "Epoch 00042: loss improved from 0.26828 to 0.25895, saving model to ./model.h5\n",
      "Epoch 43/100\n",
      "401/401 [==============================] - 5s 12ms/step - loss: 0.2540 - accuracy: 0.9195 - val_loss: 22.6595 - val_accuracy: 0.0808\n",
      "\n",
      "Epoch 00043: loss improved from 0.25895 to 0.25405, saving model to ./model.h5\n",
      "Epoch 44/100\n",
      "401/401 [==============================] - 5s 13ms/step - loss: 0.2604 - accuracy: 0.9173 - val_loss: 22.2639 - val_accuracy: 0.0800\n",
      "\n",
      "Epoch 00044: loss did not improve from 0.25405\n",
      "Epoch 45/100\n",
      "401/401 [==============================] - 5s 13ms/step - loss: 0.2558 - accuracy: 0.9166 - val_loss: 22.4983 - val_accuracy: 0.0772\n",
      "\n",
      "Epoch 00045: loss did not improve from 0.25405\n",
      "Epoch 46/100\n",
      "401/401 [==============================] - 5s 13ms/step - loss: 0.2461 - accuracy: 0.9203 - val_loss: 22.7616 - val_accuracy: 0.0808\n",
      "\n",
      "Epoch 00046: loss improved from 0.25405 to 0.24615, saving model to ./model.h5\n",
      "Epoch 47/100\n",
      "401/401 [==============================] - 5s 13ms/step - loss: 0.2346 - accuracy: 0.9219 - val_loss: 22.1982 - val_accuracy: 0.0824\n",
      "\n",
      "Epoch 00047: loss improved from 0.24615 to 0.23455, saving model to ./model.h5\n",
      "Epoch 48/100\n",
      "401/401 [==============================] - 5s 13ms/step - loss: 0.2324 - accuracy: 0.9217 - val_loss: 22.2297 - val_accuracy: 0.0791\n",
      "\n",
      "Epoch 00048: loss improved from 0.23455 to 0.23240, saving model to ./model.h5\n",
      "Epoch 49/100\n",
      "401/401 [==============================] - 5s 12ms/step - loss: 0.2319 - accuracy: 0.9207 - val_loss: 22.1959 - val_accuracy: 0.0807\n",
      "\n",
      "Epoch 00049: loss improved from 0.23240 to 0.23186, saving model to ./model.h5\n",
      "Epoch 50/100\n",
      "401/401 [==============================] - 5s 13ms/step - loss: 0.2443 - accuracy: 0.9167 - val_loss: 23.1870 - val_accuracy: 0.0777\n",
      "\n",
      "Epoch 00050: loss did not improve from 0.23186\n",
      "Epoch 51/100\n",
      "401/401 [==============================] - 5s 13ms/step - loss: 0.2567 - accuracy: 0.9136 - val_loss: 22.8150 - val_accuracy: 0.0816\n",
      "\n",
      "Epoch 00051: loss did not improve from 0.23186\n",
      "Epoch 52/100\n",
      "401/401 [==============================] - 5s 13ms/step - loss: 0.2281 - accuracy: 0.9200 - val_loss: 23.3951 - val_accuracy: 0.0778\n",
      "\n",
      "Epoch 00052: loss improved from 0.23186 to 0.22807, saving model to ./model.h5\n",
      "Epoch 53/100\n",
      "401/401 [==============================] - 5s 13ms/step - loss: 0.2172 - accuracy: 0.9223 - val_loss: 22.4379 - val_accuracy: 0.0807\n",
      "\n",
      "Epoch 00053: loss improved from 0.22807 to 0.21719, saving model to ./model.h5\n",
      "Epoch 54/100\n",
      "401/401 [==============================] - 5s 13ms/step - loss: 0.2039 - accuracy: 0.9252 - val_loss: 22.9060 - val_accuracy: 0.0821\n",
      "\n",
      "Epoch 00054: loss improved from 0.21719 to 0.20392, saving model to ./model.h5\n",
      "Epoch 55/100\n",
      "401/401 [==============================] - 5s 13ms/step - loss: 0.1999 - accuracy: 0.9251 - val_loss: 22.7670 - val_accuracy: 0.0764\n",
      "\n",
      "Epoch 00055: loss improved from 0.20392 to 0.19989, saving model to ./model.h5\n",
      "Epoch 56/100\n",
      "401/401 [==============================] - 5s 13ms/step - loss: 0.1978 - accuracy: 0.9256 - val_loss: 22.0555 - val_accuracy: 0.0768\n",
      "\n",
      "Epoch 00056: loss improved from 0.19989 to 0.19776, saving model to ./model.h5\n",
      "Epoch 57/100\n",
      "401/401 [==============================] - 5s 13ms/step - loss: 0.2124 - accuracy: 0.9218 - val_loss: 23.0603 - val_accuracy: 0.0846\n",
      "\n",
      "Epoch 00057: loss did not improve from 0.19776\n",
      "Epoch 58/100\n",
      "401/401 [==============================] - 5s 12ms/step - loss: 0.2272 - accuracy: 0.9158 - val_loss: 22.7082 - val_accuracy: 0.0807\n",
      "\n",
      "Epoch 00058: loss did not improve from 0.19776\n",
      "Epoch 59/100\n",
      "401/401 [==============================] - 5s 13ms/step - loss: 0.2338 - accuracy: 0.9147 - val_loss: 22.9963 - val_accuracy: 0.0827\n",
      "\n",
      "Epoch 00059: loss did not improve from 0.19776\n",
      "Epoch 60/100\n",
      "401/401 [==============================] - 5s 13ms/step - loss: 0.2052 - accuracy: 0.9198 - val_loss: 23.6069 - val_accuracy: 0.0811\n",
      "\n",
      "Epoch 00060: loss did not improve from 0.19776\n",
      "Epoch 61/100\n",
      "401/401 [==============================] - 5s 13ms/step - loss: 0.1965 - accuracy: 0.9236 - val_loss: 22.7537 - val_accuracy: 0.0830\n",
      "\n",
      "Epoch 00061: loss improved from 0.19776 to 0.19647, saving model to ./model.h5\n",
      "Epoch 62/100\n",
      "401/401 [==============================] - 5s 13ms/step - loss: 0.1766 - accuracy: 0.9271 - val_loss: 23.2244 - val_accuracy: 0.0805\n",
      "\n",
      "Epoch 00062: loss improved from 0.19647 to 0.17659, saving model to ./model.h5\n",
      "Epoch 63/100\n",
      "401/401 [==============================] - 5s 13ms/step - loss: 0.1774 - accuracy: 0.9262 - val_loss: 22.2894 - val_accuracy: 0.0817\n",
      "\n",
      "Epoch 00063: loss did not improve from 0.17659\n",
      "Epoch 64/100\n",
      "401/401 [==============================] - 5s 12ms/step - loss: 0.1828 - accuracy: 0.9253 - val_loss: 23.7971 - val_accuracy: 0.0814\n",
      "\n",
      "Epoch 00064: loss did not improve from 0.17659\n",
      "Epoch 65/100\n",
      "401/401 [==============================] - 5s 13ms/step - loss: 0.1914 - accuracy: 0.9234 - val_loss: 22.6495 - val_accuracy: 0.0800\n",
      "\n",
      "Epoch 00065: loss did not improve from 0.17659\n",
      "Epoch 66/100\n",
      "401/401 [==============================] - 5s 14ms/step - loss: 0.1925 - accuracy: 0.9230 - val_loss: 23.0699 - val_accuracy: 0.0788\n",
      "\n",
      "Epoch 00066: loss did not improve from 0.17659\n",
      "Epoch 67/100\n",
      "401/401 [==============================] - 5s 12ms/step - loss: 0.1986 - accuracy: 0.9212 - val_loss: 23.7772 - val_accuracy: 0.0802\n",
      "\n",
      "Epoch 00067: loss did not improve from 0.17659\n",
      "Epoch 68/100\n",
      "401/401 [==============================] - 5s 13ms/step - loss: 0.2028 - accuracy: 0.9195 - val_loss: 24.0886 - val_accuracy: 0.0827\n",
      "\n",
      "Epoch 00068: loss did not improve from 0.17659\n",
      "Epoch 69/100\n",
      "401/401 [==============================] - 5s 12ms/step - loss: 0.1887 - accuracy: 0.9228 - val_loss: 23.3011 - val_accuracy: 0.0814\n",
      "\n",
      "Epoch 00069: loss did not improve from 0.17659\n",
      "Epoch 70/100\n",
      "401/401 [==============================] - 5s 13ms/step - loss: 0.1919 - accuracy: 0.9223 - val_loss: 23.6855 - val_accuracy: 0.0805\n",
      "\n",
      "Epoch 00070: loss did not improve from 0.17659\n",
      "Epoch 71/100\n",
      "401/401 [==============================] - 5s 12ms/step - loss: 0.1831 - accuracy: 0.9232 - val_loss: 22.8695 - val_accuracy: 0.0822\n",
      "\n",
      "Epoch 00071: loss did not improve from 0.17659\n",
      "Epoch 72/100\n",
      "401/401 [==============================] - 5s 13ms/step - loss: 0.1726 - accuracy: 0.9264 - val_loss: 22.8290 - val_accuracy: 0.0786\n",
      "\n",
      "Epoch 00072: loss improved from 0.17659 to 0.17256, saving model to ./model.h5\n",
      "Epoch 73/100\n",
      "401/401 [==============================] - 5s 12ms/step - loss: 0.1652 - accuracy: 0.9262 - val_loss: 23.2670 - val_accuracy: 0.0819\n",
      "\n",
      "Epoch 00073: loss improved from 0.17256 to 0.16523, saving model to ./model.h5\n",
      "Epoch 74/100\n",
      "401/401 [==============================] - 5s 13ms/step - loss: 0.1591 - accuracy: 0.9281 - val_loss: 23.1217 - val_accuracy: 0.0789\n",
      "\n",
      "Epoch 00074: loss improved from 0.16523 to 0.15909, saving model to ./model.h5\n",
      "Epoch 75/100\n",
      "401/401 [==============================] - 5s 12ms/step - loss: 0.1594 - accuracy: 0.9278 - val_loss: 23.6446 - val_accuracy: 0.0846\n",
      "\n",
      "Epoch 00075: loss did not improve from 0.15909\n",
      "Epoch 76/100\n",
      "401/401 [==============================] - 5s 13ms/step - loss: 0.1697 - accuracy: 0.9260 - val_loss: 23.7921 - val_accuracy: 0.0808\n",
      "\n",
      "Epoch 00076: loss did not improve from 0.15909\n",
      "Epoch 77/100\n",
      "401/401 [==============================] - 5s 12ms/step - loss: 0.1927 - accuracy: 0.9203 - val_loss: 23.4957 - val_accuracy: 0.0817\n",
      "\n",
      "Epoch 00077: loss did not improve from 0.15909\n",
      "Epoch 78/100\n",
      "401/401 [==============================] - 5s 13ms/step - loss: 0.2152 - accuracy: 0.9162 - val_loss: 24.7804 - val_accuracy: 0.0800\n",
      "\n",
      "Epoch 00078: loss did not improve from 0.15909\n",
      "Epoch 79/100\n",
      "401/401 [==============================] - 5s 13ms/step - loss: 0.1894 - accuracy: 0.9194 - val_loss: 23.7156 - val_accuracy: 0.0810\n",
      "\n",
      "Epoch 00079: loss did not improve from 0.15909\n",
      "Epoch 80/100\n",
      "401/401 [==============================] - 5s 13ms/step - loss: 0.1614 - accuracy: 0.9264 - val_loss: 23.7241 - val_accuracy: 0.0791\n",
      "\n",
      "Epoch 00080: loss did not improve from 0.15909\n",
      "Epoch 81/100\n",
      "401/401 [==============================] - 5s 12ms/step - loss: 0.1550 - accuracy: 0.9280 - val_loss: 24.3009 - val_accuracy: 0.0788\n",
      "\n",
      "Epoch 00081: loss improved from 0.15909 to 0.15503, saving model to ./model.h5\n",
      "Epoch 82/100\n",
      "401/401 [==============================] - 5s 13ms/step - loss: 0.1465 - accuracy: 0.9289 - val_loss: 23.8439 - val_accuracy: 0.0827\n",
      "\n",
      "Epoch 00082: loss improved from 0.15503 to 0.14653, saving model to ./model.h5\n",
      "Epoch 83/100\n",
      "401/401 [==============================] - 5s 13ms/step - loss: 0.1416 - accuracy: 0.9300 - val_loss: 23.7192 - val_accuracy: 0.0800\n",
      "\n",
      "Epoch 00083: loss improved from 0.14653 to 0.14162, saving model to ./model.h5\n",
      "Epoch 84/100\n",
      "401/401 [==============================] - 5s 13ms/step - loss: 0.1425 - accuracy: 0.9291 - val_loss: 23.3555 - val_accuracy: 0.0830\n",
      "\n",
      "Epoch 00084: loss did not improve from 0.14162\n",
      "Epoch 85/100\n",
      "401/401 [==============================] - 5s 13ms/step - loss: 0.1463 - accuracy: 0.9294 - val_loss: 23.5609 - val_accuracy: 0.0825\n",
      "\n",
      "Epoch 00085: loss did not improve from 0.14162\n",
      "Epoch 86/100\n",
      "401/401 [==============================] - 5s 14ms/step - loss: 0.1665 - accuracy: 0.9249 - val_loss: 24.4617 - val_accuracy: 0.0835\n",
      "\n",
      "Epoch 00086: loss did not improve from 0.14162\n",
      "Epoch 87/100\n",
      "401/401 [==============================] - 5s 12ms/step - loss: 0.2492 - accuracy: 0.9046 - val_loss: 24.7552 - val_accuracy: 0.0774\n",
      "\n",
      "Epoch 00087: loss did not improve from 0.14162\n",
      "Epoch 88/100\n",
      "401/401 [==============================] - 5s 13ms/step - loss: 0.1978 - accuracy: 0.9163 - val_loss: 24.3207 - val_accuracy: 0.0783\n",
      "\n",
      "Epoch 00088: loss did not improve from 0.14162\n",
      "Epoch 89/100\n",
      "401/401 [==============================] - 5s 12ms/step - loss: 0.1553 - accuracy: 0.9271 - val_loss: 23.9148 - val_accuracy: 0.0810\n",
      "\n",
      "Epoch 00089: loss did not improve from 0.14162\n",
      "Epoch 90/100\n",
      "401/401 [==============================] - 5s 12ms/step - loss: 0.1385 - accuracy: 0.9289 - val_loss: 24.2069 - val_accuracy: 0.0819\n",
      "\n",
      "Epoch 00090: loss improved from 0.14162 to 0.13846, saving model to ./model.h5\n",
      "Epoch 91/100\n",
      "401/401 [==============================] - 5s 13ms/step - loss: 0.1336 - accuracy: 0.9296 - val_loss: 23.6677 - val_accuracy: 0.0819\n",
      "\n",
      "Epoch 00091: loss improved from 0.13846 to 0.13357, saving model to ./model.h5\n",
      "Epoch 92/100\n",
      "401/401 [==============================] - 5s 13ms/step - loss: 0.1332 - accuracy: 0.9297 - val_loss: 23.3081 - val_accuracy: 0.0830\n",
      "\n",
      "Epoch 00092: loss improved from 0.13357 to 0.13325, saving model to ./model.h5\n",
      "Epoch 93/100\n",
      "401/401 [==============================] - 5s 12ms/step - loss: 0.1331 - accuracy: 0.9298 - val_loss: 24.1046 - val_accuracy: 0.0811\n",
      "\n",
      "Epoch 00093: loss improved from 0.13325 to 0.13314, saving model to ./model.h5\n",
      "Epoch 94/100\n",
      "401/401 [==============================] - 5s 13ms/step - loss: 0.1348 - accuracy: 0.9290 - val_loss: 23.7052 - val_accuracy: 0.0841\n",
      "\n",
      "Epoch 00094: loss did not improve from 0.13314\n",
      "Epoch 95/100\n",
      "401/401 [==============================] - 5s 13ms/step - loss: 0.1439 - accuracy: 0.9292 - val_loss: 25.2639 - val_accuracy: 0.0836\n",
      "\n",
      "Epoch 00095: loss did not improve from 0.13314\n",
      "Epoch 96/100\n",
      "401/401 [==============================] - 5s 13ms/step - loss: 0.2548 - accuracy: 0.9011 - val_loss: 24.7821 - val_accuracy: 0.0778\n",
      "\n",
      "Epoch 00096: loss did not improve from 0.13314\n",
      "Epoch 97/100\n",
      "401/401 [==============================] - 5s 13ms/step - loss: 0.2161 - accuracy: 0.9113 - val_loss: 25.5369 - val_accuracy: 0.0810\n",
      "\n",
      "Epoch 00097: loss did not improve from 0.13314\n",
      "Epoch 98/100\n",
      "401/401 [==============================] - 5s 13ms/step - loss: 0.1495 - accuracy: 0.9255 - val_loss: 24.4634 - val_accuracy: 0.0830\n",
      "\n",
      "Epoch 00098: loss did not improve from 0.13314\n",
      "Epoch 99/100\n",
      "401/401 [==============================] - 5s 13ms/step - loss: 0.1307 - accuracy: 0.9302 - val_loss: 24.2667 - val_accuracy: 0.0816\n",
      "\n",
      "Epoch 00099: loss improved from 0.13314 to 0.13065, saving model to ./model.h5\n",
      "Epoch 100/100\n",
      "401/401 [==============================] - 5s 13ms/step - loss: 0.1265 - accuracy: 0.9293 - val_loss: 24.6089 - val_accuracy: 0.0832\n",
      "\n",
      "Epoch 00100: loss improved from 0.13065 to 0.12654, saving model to ./model.h5\n"
     ]
    }
   ],
   "source": [
    "# Training the model\n",
    "\n",
    "checkpoint = ModelCheckpoint(\"./model.h5\", monitor=\"loss\", verbose=1, save_best_only=True)\n",
    "\n",
    "model.compile(loss=\"categorical_crossentropy\",\n",
    "              optimizer=Adam(learning_rate=0.001),\n",
    "              metrics=['accuracy'])\n",
    "\n",
    "history = model.fit(X_train,\n",
    "          y_train,\n",
    "          epochs=100,\n",
    "          batch_size=64,\n",
    "          validation_data=(X_test, y_test),\n",
    "          callbacks=[checkpoint])"
   ]
  },
  {
   "cell_type": "code",
   "execution_count": 10,
   "id": "08896bf7",
   "metadata": {
    "execution": {
     "iopub.execute_input": "2021-12-22T06:48:17.893257Z",
     "iopub.status.busy": "2021-12-22T06:48:17.892531Z",
     "iopub.status.idle": "2021-12-22T06:48:18.114009Z",
     "shell.execute_reply": "2021-12-22T06:48:18.113478Z",
     "shell.execute_reply.started": "2021-12-22T03:49:21.740269Z"
    },
    "papermill": {
     "duration": 2.375897,
     "end_time": "2021-12-22T06:48:18.114167",
     "exception": false,
     "start_time": "2021-12-22T06:48:15.738270",
     "status": "completed"
    },
    "tags": []
   },
   "outputs": [
    {
     "data": {
      "image/png": "[encoded data removed]",
      "text/plain": [
       "<Figure size 432x288 with 1 Axes>"
      ]
     },
     "metadata": {
      "needs_background": "light"
     },
     "output_type": "display_data"
    },
    {
     "data": {
      "text/plain": [
       "<Figure size 432x288 with 0 Axes>"
      ]
     },
     "metadata": {},
     "output_type": "display_data"
    }
   ],
   "source": [
    "# Plotting losses and accuracies on each epochs\n",
    "\n",
    "# loss\n",
    "plt.plot(history.history['loss'], label='train loss')\n",
    "plt.legend()\n",
    "plt.show()\n",
    "plt.savefig('loss')"
   ]
  },
  {
   "cell_type": "code",
   "execution_count": 11,
   "id": "bcacba10",
   "metadata": {
    "execution": {
     "iopub.execute_input": "2021-12-22T06:48:22.594412Z",
     "iopub.status.busy": "2021-12-22T06:48:22.578429Z",
     "iopub.status.idle": "2021-12-22T06:48:22.789594Z",
     "shell.execute_reply": "2021-12-22T06:48:22.790549Z",
     "shell.execute_reply.started": "2021-12-22T03:49:27.721091Z"
    },
    "papermill": {
     "duration": 2.420236,
     "end_time": "2021-12-22T06:48:22.790774",
     "exception": false,
     "start_time": "2021-12-22T06:48:20.370538",
     "status": "completed"
    },
    "tags": []
   },
   "outputs": [
    {
     "data": {
      "image/png": "[encoded data removed]",
      "text/plain": [
       "<Figure size 432x288 with 1 Axes>"
      ]
     },
     "metadata": {
      "needs_background": "light"
     },
     "output_type": "display_data"
    },
    {
     "data": {
      "text/plain": [
       "<Figure size 432x288 with 0 Axes>"
      ]
     },
     "metadata": {},
     "output_type": "display_data"
    }
   ],
   "source": [
    "# accuracies\n",
    "plt.plot(history.history['accuracy'], label='train acc')\n",
    "plt.legend()\n",
    "plt.show()\n",
    "plt.savefig('accuracy')"
   ]
  },
  {
   "cell_type": "markdown",
   "id": "46e7d954",
   "metadata": {
    "papermill": {
     "duration": 2.213316,
     "end_time": "2021-12-22T06:48:27.293795",
     "exception": false,
     "start_time": "2021-12-22T06:48:25.080479",
     "status": "completed"
    },
    "tags": []
   },
   "source": [
    "## Predicting"
   ]
  },
  {
   "cell_type": "code",
   "execution_count": 12,
   "id": "8c7b41f4",
   "metadata": {
    "execution": {
     "iopub.execute_input": "2021-12-22T06:48:31.630364Z",
     "iopub.status.busy": "2021-12-22T06:48:31.629459Z",
     "iopub.status.idle": "2021-12-22T06:48:31.631674Z",
     "shell.execute_reply": "2021-12-22T06:48:31.631259Z"
    },
    "papermill": {
     "duration": 2.160189,
     "end_time": "2021-12-22T06:48:31.631792",
     "exception": false,
     "start_time": "2021-12-22T06:48:29.471603",
     "status": "completed"
    },
    "tags": []
   },
   "outputs": [],
   "source": [
    "# Uncomment this cell to test out the model\n",
    "\n",
    "# # Loading the saved tokenizer and model\n",
    "# tokenizer = pickle.load(open('./tokenizer.pkl', 'rb'))\n",
    "# model = load_model('./model.h5')\n",
    "\n",
    "# def predict_next_word(text, tokenizer=tokenizer, model=model):\n",
    "#     sequence = tokenizer.texts_to_sequences([text])\n",
    "#     sequence = np.array(sequence)\n",
    "#     preds = np.argmax(model.predict(sequence))\n",
    "#     word = list(tokenizer.word_index.keys())[list(tokenizer.word_index.values()).index(preds)]\n",
    "#     return word\n",
    "\n",
    "# while True:\n",
    "#     text = input(\"Enter your sentence here: \")\n",
    "#     if text == \"break\":\n",
    "#         break\n",
    "    \n",
    "#     words = text.split()\n",
    "#     if len(words)<3:\n",
    "#         print(\"Input sentence should have minimum 3 words\")\n",
    "#         continue\n",
    "#     word = predict_next_word(words[-3:])\n",
    "#     print(f\"Prediction: {word}\")"
   ]
  }
 ],
 "metadata": {
  "kernelspec": {
   "display_name": "Python 3",
   "language": "python",
   "name": "python3"
  },
  "language_info": {
   "codemirror_mode": {
    "name": "ipython",
    "version": 3
   },
   "file_extension": ".py",
   "mimetype": "text/x-python",
   "name": "python",
   "nbconvert_exporter": "python",
   "pygments_lexer": "ipython3",
   "version": "3.7.12"
  },
  "papermill": {
   "default_parameters": {},
   "duration": 608.36341,
   "end_time": "2021-12-22T06:48:37.264669",
   "environment_variables": {},
   "exception": null,
   "input_path": "__notebook__.ipynb",
   "output_path": "__notebook__.ipynb",
   "parameters": {},
   "start_time": "2021-12-22T06:38:28.901259",
   "version": "2.3.3"
  }
 },
 "nbformat": 4,
 "nbformat_minor": 5
}
