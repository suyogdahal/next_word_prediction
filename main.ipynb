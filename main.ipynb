{
 "cells": [
  {
   "cell_type": "code",
   "execution_count": 1,
   "metadata": {},
   "outputs": [],
   "source": [
    "# Making necessary imports\n",
    "\n",
    "import pickle\n",
    "import numpy as np\n",
    "import matplotlib.pyplot as plt\n",
    "\n",
    "import tensorflow as tf\n",
    "from tensorflow.keras.preprocessing.text import Tokenizer\n",
    "from tensorflow.keras.layers import Embedding, LSTM, Dense\n",
    "from tensorflow.keras.models import Sequential\n",
    "from tensorflow.keras.utils import to_categorical\n",
    "from tensorflow.keras.optimizers import Adam\n",
    "from tensorflow.keras.callbacks import ModelCheckpoint\n",
    "from tensorflow.keras.models import load_model"
   ]
  },
  {
   "cell_type": "markdown",
   "metadata": {},
   "source": [
    "For this project, we will be using the text corpus of an ebook [\"A Christmas Carol in Prose; Being a Ghost Story of Christmas\"](https://www.gutenberg.org/ebooks/46) which is downloaded from Project Gutenberg."
   ]
  },
  {
   "cell_type": "markdown",
   "metadata": {},
   "source": [
    "## Data Preparation"
   ]
  },
  {
   "cell_type": "code",
   "execution_count": 2,
   "metadata": {},
   "outputs": [
    {
     "data": {
      "text/plain": [
       "'The Project Gutenberg eBook of A Christmas Carol, by Charles Dickens\\n\\nThis eBook is for the use of anyone anywhere in the United States and\\nmost other parts of the world at no cost and with almost no restrictions\\nwhatsoever. You may copy it, give it away or re-use it under the terms\\nof the Project Gutenberg License included with this eBook or online at\\nwww.gutenberg.org. If you are not located in the United States, you\\nwill have to check the laws of the country where you are located before\\nusing'"
      ]
     },
     "execution_count": 2,
     "metadata": {},
     "output_type": "execute_result"
    }
   ],
   "source": [
    "with open(\"data/data.txt\", \"r\", encoding='utf-8-sig') as f:\n",
    "    text = f.read()\n",
    "    \n",
    "# Viewing a portion of the original text\n",
    "text[:500]"
   ]
  },
  {
   "cell_type": "code",
   "execution_count": 3,
   "metadata": {},
   "outputs": [
    {
     "data": {
      "text/plain": [
       "'The Project Gutenberg eBook of A Christmas Carol, by Charles Dickens This eBook is for the use of anyone anywhere in the United States and most other parts of the world at no cost and with almost no restrictions whatsoever. You may copy it, give it away or re-use it under the terms of the Project Gutenberg License included with this eBook or online at www.gutenberg.org. If you are not located in the United States, you will have to check the laws of the country where you are located before using '"
      ]
     },
     "execution_count": 3,
     "metadata": {},
     "output_type": "execute_result"
    }
   ],
   "source": [
    "# Some basic preprocessing\n",
    "\n",
    "text = \" \".join(text.split()) # Remove any remaining white spaces\n",
    "text = text.replace('\"', '').replace(\"'\", '') # Remove single and double quotation marks\n",
    "\n",
    "# Viewing a portion of the preprocessed text\n",
    "text[:500]"
   ]
  },
  {
   "cell_type": "code",
   "execution_count": 4,
   "metadata": {},
   "outputs": [
    {
     "name": "stdout",
     "output_type": "stream",
     "text": [
      "Total number of unique words: 4701\n",
      "\n",
      "Word Count: [('the', 1761), ('project', 88), ('gutenberg', 97), ('ebook', 13), ('of', 783)]\n",
      "\n",
      "Document Count: 1\n",
      "\n",
      "Word Index: {'the': 1, 'and': 2, 'of': 3, 'a': 4, 'to': 5}\n"
     ]
    }
   ],
   "source": [
    "# Apply Tokenization\n",
    "\n",
    "# Fitting tokenizer on text\n",
    "tokenizer = Tokenizer()\n",
    "tokenizer.fit_on_texts([text])\n",
    "\n",
    "# View what the tokenizer has learned\n",
    "vocab_size = len(tokenizer.word_index)+1\n",
    "print(f'Total number of unique words: {vocab_size}\\n')\n",
    "print(f\"Word Count: {list(tokenizer.word_counts.items())[:5]}\\n\")\n",
    "print(f\"Document Count: {tokenizer.document_count}\\n\")\n",
    "print(f\"Word Index: {dict(list(tokenizer.word_index.items())[:5])}\")\n",
    "\n",
    "# Saving the tokenizer\n",
    "pickle.dump(tokenizer, open(\"saved_models/tokenizer.pkl\", 'wb'))"
   ]
  },
  {
   "cell_type": "code",
   "execution_count": 5,
   "metadata": {},
   "outputs": [
    {
     "name": "stdout",
     "output_type": "stream",
     "text": [
      "Length of sequence data: 32050\n",
      "[1, 51, 46, 304, 3]\n"
     ]
    }
   ],
   "source": [
    "# Transforming text to sequences\n",
    "sequence_data = tokenizer.texts_to_sequences([text])[0]\n",
    "print(f'Length of sequence data: {len(sequence_data)}')\n",
    "print(sequence_data[:5])"
   ]
  },
  {
   "cell_type": "code",
   "execution_count": 6,
   "metadata": {},
   "outputs": [
    {
     "name": "stdout",
     "output_type": "stream",
     "text": [
      "Total number of sequences: 32047\n"
     ]
    },
    {
     "data": {
      "text/plain": [
       "array([[  1,  51,  46, 304],\n",
       "       [ 51,  46, 304,   3],\n",
       "       [ 46, 304,   3,   4],\n",
       "       [304,   3,   4,  50],\n",
       "       [  3,   4,  50, 505]])"
      ]
     },
     "execution_count": 6,
     "metadata": {},
     "output_type": "execute_result"
    }
   ],
   "source": [
    "# Creating sequences each having 4 words (first three words are used to predict the fourth word)\n",
    "sequences = []\n",
    "\n",
    "for i in range(3, len(sequence_data)):\n",
    "    words = sequence_data[i-3:i+1]\n",
    "    sequences.append(words)\n",
    "\n",
    "sequences = np.array(sequences)\n",
    "print(f'Total number of sequences: {sequences.shape[0]}')\n",
    "sequences[:5]"
   ]
  },
  {
   "cell_type": "code",
   "execution_count": 7,
   "metadata": {},
   "outputs": [
    {
     "data": {
      "text/plain": [
       "array([[0., 0., 0., ..., 0., 0., 0.],\n",
       "       [0., 0., 0., ..., 0., 0., 0.],\n",
       "       [0., 0., 0., ..., 0., 0., 0.],\n",
       "       [0., 0., 0., ..., 0., 0., 0.],\n",
       "       [0., 0., 0., ..., 0., 0., 0.]], dtype=float32)"
      ]
     },
     "execution_count": 7,
     "metadata": {},
     "output_type": "execute_result"
    }
   ],
   "source": [
    "# Taking first 3 words as input and last word as output\n",
    "\n",
    "X = sequences[:,0:3]\n",
    "y = sequences[:,3]\n",
    "\n",
    "# Converting output into binary class matrix\n",
    "y = to_categorical(y, num_classes=vocab_size)\n",
    "y[:5]"
   ]
  },
  {
   "cell_type": "markdown",
   "metadata": {},
   "source": [
    "## Model Building & Training"
   ]
  },
  {
   "cell_type": "code",
   "execution_count": 8,
   "metadata": {},
   "outputs": [
    {
     "name": "stdout",
     "output_type": "stream",
     "text": [
      "Model: \"sequential\"\n",
      "_________________________________________________________________\n",
      " Layer (type)                Output Shape              Param #   \n",
      "=================================================================\n",
      " embedding (Embedding)       (None, 3, 10)             47010     \n",
      "                                                                 \n",
      " lstm (LSTM)                 (None, 3, 500)            1022000   \n",
      "                                                                 \n",
      " lstm_1 (LSTM)               (None, 500)               2002000   \n",
      "                                                                 \n",
      " dense (Dense)               (None, 500)               250500    \n",
      "                                                                 \n",
      " dense_1 (Dense)             (None, 4701)              2355201   \n",
      "                                                                 \n",
      "=================================================================\n",
      "Total params: 5,676,711\n",
      "Trainable params: 5,676,711\n",
      "Non-trainable params: 0\n",
      "_________________________________________________________________\n"
     ]
    }
   ],
   "source": [
    "# Creating a LSTM model\n",
    "\n",
    "model = Sequential()\n",
    "model.add(Embedding(vocab_size, 10, input_length=3))\n",
    "model.add(LSTM(500, return_sequences=True))\n",
    "model.add(LSTM(500))\n",
    "model.add(Dense(500, activation='relu'))\n",
    "model.add(Dense(vocab_size, activation='softmax'))\n",
    "\n",
    "model.summary()"
   ]
  },
  {
   "cell_type": "code",
   "execution_count": 9,
   "metadata": {},
   "outputs": [
    {
     "name": "stdout",
     "output_type": "stream",
     "text": [
      "Epoch 1/50\n",
      "501/501 [==============================] - 43s 80ms/step - loss: 6.7511\n",
      "Epoch 2/50\n",
      "501/501 [==============================] - 40s 81ms/step - loss: 6.3257\n",
      "Epoch 3/50\n",
      "501/501 [==============================] - 44s 87ms/step - loss: 6.0608\n",
      "Epoch 4/50\n",
      "501/501 [==============================] - 46s 92ms/step - loss: 5.7742\n",
      "Epoch 5/50\n",
      "501/501 [==============================] - 41s 82ms/step - loss: 5.4874\n",
      "Epoch 6/50\n",
      "501/501 [==============================] - 41s 82ms/step - loss: 5.2277\n",
      "Epoch 7/50\n",
      "501/501 [==============================] - 44s 88ms/step - loss: 4.9899\n",
      "Epoch 8/50\n",
      "501/501 [==============================] - 41s 82ms/step - loss: 4.7622\n",
      "Epoch 9/50\n",
      "501/501 [==============================] - 41s 83ms/step - loss: 4.5312\n",
      "Epoch 10/50\n",
      "501/501 [==============================] - 44s 87ms/step - loss: 4.2901\n",
      "Epoch 11/50\n",
      "501/501 [==============================] - 42s 83ms/step - loss: 4.0290\n",
      "Epoch 12/50\n",
      "501/501 [==============================] - 43s 85ms/step - loss: 3.7483\n",
      "Epoch 13/50\n",
      "501/501 [==============================] - 42s 83ms/step - loss: 3.4528\n",
      "Epoch 14/50\n",
      "501/501 [==============================] - 43s 85ms/step - loss: 3.1720\n",
      "Epoch 15/50\n",
      "501/501 [==============================] - 44s 87ms/step - loss: 2.8947\n",
      "Epoch 16/50\n",
      "501/501 [==============================] - 42s 84ms/step - loss: 2.6418\n",
      "Epoch 17/50\n",
      "501/501 [==============================] - 43s 85ms/step - loss: 2.4140\n",
      "Epoch 18/50\n",
      "501/501 [==============================] - 45s 89ms/step - loss: 2.2017\n",
      "Epoch 19/50\n",
      "501/501 [==============================] - 42s 85ms/step - loss: 2.0051\n",
      "Epoch 20/50\n",
      "501/501 [==============================] - 43s 85ms/step - loss: 1.8125\n",
      "Epoch 21/50\n",
      "501/501 [==============================] - 64s 128ms/step - loss: 1.6411\n",
      "Epoch 22/50\n",
      "501/501 [==============================] - 45s 91ms/step - loss: 1.4776\n",
      "Epoch 23/50\n",
      "501/501 [==============================] - 46s 93ms/step - loss: 1.3322\n",
      "Epoch 24/50\n",
      "501/501 [==============================] - 52s 103ms/step - loss: 1.1872\n",
      "Epoch 25/50\n",
      "501/501 [==============================] - 49s 98ms/step - loss: 1.0679\n",
      "Epoch 26/50\n",
      "501/501 [==============================] - 40s 80ms/step - loss: 0.9590\n",
      "Epoch 27/50\n",
      "501/501 [==============================] - 46s 92ms/step - loss: 0.8528\n",
      "Epoch 28/50\n",
      "501/501 [==============================] - 51s 102ms/step - loss: 0.7684\n",
      "Epoch 29/50\n",
      "501/501 [==============================] - 51s 102ms/step - loss: 0.6994\n",
      "Epoch 30/50\n",
      "501/501 [==============================] - 46s 91ms/step - loss: 0.6268\n",
      "Epoch 31/50\n",
      "501/501 [==============================] - 37s 73ms/step - loss: 0.5690\n",
      "Epoch 32/50\n",
      "501/501 [==============================] - 37s 73ms/step - loss: 0.5237\n",
      "Epoch 33/50\n",
      "501/501 [==============================] - 37s 73ms/step - loss: 0.4966\n",
      "Epoch 34/50\n",
      "501/501 [==============================] - 40s 80ms/step - loss: 0.4665\n",
      "Epoch 35/50\n",
      "501/501 [==============================] - 43s 85ms/step - loss: 0.4415\n",
      "Epoch 36/50\n",
      "501/501 [==============================] - 42s 85ms/step - loss: 0.4054\n",
      "Epoch 37/50\n",
      "501/501 [==============================] - 42s 84ms/step - loss: 0.3944\n",
      "Epoch 38/50\n",
      "501/501 [==============================] - 44s 88ms/step - loss: 0.3759\n",
      "Epoch 39/50\n",
      "501/501 [==============================] - 42s 84ms/step - loss: 0.3716\n",
      "Epoch 40/50\n",
      "501/501 [==============================] - 42s 84ms/step - loss: 0.3583\n",
      "Epoch 41/50\n",
      "501/501 [==============================] - 45s 89ms/step - loss: 0.3576\n",
      "Epoch 42/50\n",
      "501/501 [==============================] - 42s 85ms/step - loss: 0.3427\n",
      "Epoch 43/50\n",
      "501/501 [==============================] - 42s 85ms/step - loss: 0.3341\n",
      "Epoch 44/50\n",
      "501/501 [==============================] - 45s 89ms/step - loss: 0.3270\n",
      "Epoch 45/50\n",
      "501/501 [==============================] - 42s 85ms/step - loss: 0.3150\n",
      "Epoch 46/50\n",
      "501/501 [==============================] - 43s 85ms/step - loss: 0.3020\n",
      "Epoch 47/50\n",
      "501/501 [==============================] - 43s 85ms/step - loss: 0.3114\n",
      "Epoch 48/50\n",
      "501/501 [==============================] - 43s 85ms/step - loss: 0.3122\n",
      "Epoch 49/50\n",
      "501/501 [==============================] - 42s 83ms/step - loss: 0.3050\n",
      "Epoch 50/50\n",
      "501/501 [==============================] - 42s 84ms/step - loss: 0.2887\n"
     ]
    },
    {
     "data": {
      "text/plain": [
       "<keras.callbacks.History at 0x7f85fa172c90>"
      ]
     },
     "execution_count": 9,
     "metadata": {},
     "output_type": "execute_result"
    }
   ],
   "source": [
    "# Training the model\n",
    "\n",
    "checkpoint = ModelCheckpoint(\"saved_models/model.h5\", monitor=\"loss\", save_best_only=True)\n",
    "model.compile(loss=\"categorical_crossentropy\", optimizer=Adam(learning_rate=0.001))\n",
    "model.fit(X,y, epochs=50, batch_size=64, callbacks=[checkpoint])"
   ]
  },
  {
   "cell_type": "code",
   "execution_count": 10,
   "metadata": {},
   "outputs": [
    {
     "data": {
      "text/plain": [
       "[<matplotlib.lines.Line2D at 0x7f85fa324cd0>]"
      ]
     },
     "execution_count": 10,
     "metadata": {},
     "output_type": "execute_result"
    },
    {
     "data": {
      "image/png": "[encoded data removed]",
      "text/plain": [
       "<Figure size 432x288 with 1 Axes>"
      ]
     },
     "metadata": {
      "needs_background": "light"
     },
     "output_type": "display_data"
    }
   ],
   "source": [
    "# Plotting loss on each epochs\n",
    "loss = model.history.history['loss']\n",
    "plt.title('Training Loss')\n",
    "plt.xlabel('Epochs')\n",
    "plt.ylabel('Loss')\n",
    "plt.plot(loss)"
   ]
  },
  {
   "cell_type": "markdown",
   "metadata": {},
   "source": [
    "## Predicting"
   ]
  },
  {
   "cell_type": "code",
   "execution_count": 11,
   "metadata": {},
   "outputs": [],
   "source": [
    "# Loading the saved tokenizer and model\n",
    "tokenizer = pickle.load(open('saved_models/tokenizer.pkl', 'rb'))\n",
    "model = load_model('saved_models/model.h5')"
   ]
  },
  {
   "cell_type": "code",
   "execution_count": 12,
   "metadata": {},
   "outputs": [],
   "source": [
    "def predict_next_word(text, tokenizer=tokenizer, model=model):\n",
    "    sequence = tokenizer.texts_to_sequences([text])\n",
    "    sequence = np.array(sequence)\n",
    "    preds = np.argmax(model.predict(sequence))\n",
    "    word = list(tokenizer.word_index.keys())[list(tokenizer.word_index.values()).index(preds)]\n",
    "    return word"
   ]
  },
  {
   "cell_type": "code",
   "execution_count": 14,
   "metadata": {},
   "outputs": [
    {
     "name": "stdin",
     "output_type": "stream",
     "text": [
      "Enter your sentence here:  we were not\n"
     ]
    },
    {
     "name": "stdout",
     "output_type": "stream",
     "text": [
      "Prediction: perfectly\n"
     ]
    },
    {
     "name": "stdin",
     "output_type": "stream",
     "text": [
      "Enter your sentence here:  painted out Old\n"
     ]
    },
    {
     "name": "stdout",
     "output_type": "stream",
     "text": [
      "Prediction: marleys\n"
     ]
    },
    {
     "name": "stdin",
     "output_type": "stream",
     "text": [
      "Enter your sentence here:  External heat and\n"
     ]
    },
    {
     "name": "stdout",
     "output_type": "stream",
     "text": [
      "Prediction: cold\n"
     ]
    },
    {
     "name": "stdin",
     "output_type": "stream",
     "text": [
      "Enter your sentence here:  break\n"
     ]
    }
   ],
   "source": [
    "while True:\n",
    "    text = input(\"Enter your sentence here: \")\n",
    "    if text == \"break\":\n",
    "        break\n",
    "    \n",
    "    words = text.split()\n",
    "    if len(words)<3:\n",
    "        print(\"Input sentence should have minimum 3 words\")\n",
    "        continue\n",
    "    word = predict_next_word(words[-3:])\n",
    "    print(f\"Prediction: {word}\")"
   ]
  }
 ],
 "metadata": {
  "kernelspec": {
   "display_name": "Python 3",
   "language": "python",
   "name": "python3"
  },
  "language_info": {
   "codemirror_mode": {
    "name": "ipython",
    "version": 3
   },
   "file_extension": ".py",
   "mimetype": "text/x-python",
   "name": "python",
   "nbconvert_exporter": "python",
   "pygments_lexer": "ipython3",
   "version": "3.7.6"
  }
 },
 "nbformat": 4,
 "nbformat_minor": 4
}
